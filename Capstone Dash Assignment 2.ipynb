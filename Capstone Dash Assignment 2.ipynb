{
 "cells": [
  {
   "cell_type": "code",
   "execution_count": 1,
   "metadata": {},
   "outputs": [],
   "source": [
    "# Import required libraries\n",
    "import pandas as pd\n",
    "import dash\n",
    "import dash_html_components as html\n",
    "import dash_core_components as dcc\n",
    "from dash.dependencies import Input, Output\n",
    "import plotly.express as px"
   ]
  },
  {
   "cell_type": "code",
   "execution_count": 3,
   "metadata": {},
   "outputs": [],
   "source": [
    "# Read the airline data into pandas dataframe\n",
    "spacex_df = pd.read_csv(r\"C:\\Users\\user\\Downloads\\spacex_launch_dash.csv\")\n",
    "max_payload = spacex_df['Payload Mass (kg)'].max()\n",
    "min_payload = spacex_df['Payload Mass (kg)'].min()"
   ]
  },
  {
   "cell_type": "code",
   "execution_count": 4,
   "metadata": {},
   "outputs": [],
   "source": [
    "# Create a dash application\n",
    "app = dash.Dash(__name__)"
   ]
  },
  {
   "cell_type": "code",
   "execution_count": 14,
   "metadata": {},
   "outputs": [],
   "source": [
    "# Create an app layout\n",
    "app.layout = html.Div(children=[html.H1('SpaceX Launch Records Dashboard',\n",
    "                                        style={'textAlign': 'center', 'color': '#503D36',\n",
    "                                               'font-size': 40}),\n",
    "# TASK 1: Add a dropdown list to enable Launch Site selection\n",
    "# The default select value is for ALL sites\n",
    "# dcc.Dropdown(id='site-dropdown',...)\n",
    "html.Br(),\n",
    "dcc.Dropdown(id='site_dropdown',\n",
    "            options=[{'label': 'All Sites', 'value': 'ALL'},\n",
    "                    {'label': 'CCAFS LC-40', 'value': 'CCAFS LC-40'},\n",
    "                    {'label': 'VAFB SLC-4E', 'value': 'VAFB SLC-4E'},\n",
    "                    {'label': 'KSC LC-39A', 'value': 'KSC LC-39A'}\n",
    "                    ],\n",
    "            value='ALL', placeholder='Do select a site',searchable=True),\n",
    "html.Br(),\n",
    "# TASK 2: Add a pie chart to show the total successful launches count for all sites\n",
    "# If a specific launch site was selected, show the Success vs. Failed counts for the site\n",
    "html.Div(dcc.Graph(id='success-pie-chart')),\n",
    "html.Br(),\n",
    "                                \n",
    "                               ])"
   ]
  },
  {
   "cell_type": "code",
   "execution_count": 15,
   "metadata": {},
   "outputs": [],
   "source": [
    "@app.callback(Output(component_id='success-pie-chart', component_property='figure'),\n",
    "              Input(component_id='site_dropdown', component_property='value'))\n",
    "def get_pie_chart(site_dropdown):\n",
    "    filtered_df = spacex_df[spacex_df['class'] == 1]\n",
    "    if site_dropdown == 'ALL':\n",
    "        fig = px.pie(data, values = 'class', names='Launch Site', title='Successful Lanch')\n",
    "    #return fig\n",
    "    else:\n",
    "        filtered_df = spacex_df[spacex_df['Launch Site']== site_dropdown]\n",
    "        fig = px.pie(spacex_df, names = 'class',\n",
    "        title = 'Successful Launch')\n",
    "    return fig"
   ]
  },
  {
   "cell_type": "code",
   "execution_count": 19,
   "metadata": {},
   "outputs": [
    {
     "name": "stdout",
     "output_type": "stream",
     "text": [
      "Dash is running on http://127.0.0.1:8050/\n",
      "\n",
      " * Serving Flask app \"__main__\" (lazy loading)\n",
      " * Environment: production\n",
      "   WARNING: This is a development server. Do not use it in a production deployment.\n",
      "   Use a production WSGI server instead.\n",
      " * Debug mode: off\n"
     ]
    },
    {
     "ename": "TypeError",
     "evalue": "run_simple() got an unexpected keyword argument 'mode'",
     "output_type": "error",
     "traceback": [
      "\u001b[1;31m---------------------------------------------------------------------------\u001b[0m",
      "\u001b[1;31mTypeError\u001b[0m                                 Traceback (most recent call last)",
      "\u001b[1;32m<ipython-input-19-3a09a2e38683>\u001b[0m in \u001b[0;36m<module>\u001b[1;34m\u001b[0m\n\u001b[0;32m      1\u001b[0m \u001b[1;31m# Run the app\u001b[0m\u001b[1;33m\u001b[0m\u001b[1;33m\u001b[0m\u001b[1;33m\u001b[0m\u001b[0m\n\u001b[0;32m      2\u001b[0m \u001b[1;32mif\u001b[0m \u001b[0m__name__\u001b[0m \u001b[1;33m==\u001b[0m \u001b[1;34m'__main__'\u001b[0m\u001b[1;33m:\u001b[0m\u001b[1;33m\u001b[0m\u001b[1;33m\u001b[0m\u001b[0m\n\u001b[1;32m----> 3\u001b[1;33m     \u001b[0mapp\u001b[0m\u001b[1;33m.\u001b[0m\u001b[0mrun_server\u001b[0m\u001b[1;33m(\u001b[0m\u001b[0mmode\u001b[0m\u001b[1;33m=\u001b[0m\u001b[1;34m'inline'\u001b[0m\u001b[1;33m)\u001b[0m\u001b[1;33m\u001b[0m\u001b[1;33m\u001b[0m\u001b[0m\n\u001b[0m",
      "\u001b[1;32m~\\anaconda3a\\lib\\site-packages\\dash\\dash.py\u001b[0m in \u001b[0;36mrun_server\u001b[1;34m(self, host, port, proxy, debug, dev_tools_ui, dev_tools_props_check, dev_tools_serve_dev_bundles, dev_tools_hot_reload, dev_tools_hot_reload_interval, dev_tools_hot_reload_watch_interval, dev_tools_hot_reload_max_retry, dev_tools_silence_routes_logging, dev_tools_prune_errors, **flask_run_options)\u001b[0m\n\u001b[0;32m   1716\u001b[0m             \u001b[0mself\u001b[0m\u001b[1;33m.\u001b[0m\u001b[0mlogger\u001b[0m\u001b[1;33m.\u001b[0m\u001b[0minfo\u001b[0m\u001b[1;33m(\u001b[0m\u001b[1;34m\"Dash is running on %s://%s%s%s\\n\"\u001b[0m\u001b[1;33m,\u001b[0m \u001b[1;33m*\u001b[0m\u001b[0mdisplay_url\u001b[0m\u001b[1;33m)\u001b[0m\u001b[1;33m\u001b[0m\u001b[1;33m\u001b[0m\u001b[0m\n\u001b[0;32m   1717\u001b[0m \u001b[1;33m\u001b[0m\u001b[0m\n\u001b[1;32m-> 1718\u001b[1;33m         \u001b[0mself\u001b[0m\u001b[1;33m.\u001b[0m\u001b[0mserver\u001b[0m\u001b[1;33m.\u001b[0m\u001b[0mrun\u001b[0m\u001b[1;33m(\u001b[0m\u001b[0mhost\u001b[0m\u001b[1;33m=\u001b[0m\u001b[0mhost\u001b[0m\u001b[1;33m,\u001b[0m \u001b[0mport\u001b[0m\u001b[1;33m=\u001b[0m\u001b[0mport\u001b[0m\u001b[1;33m,\u001b[0m \u001b[0mdebug\u001b[0m\u001b[1;33m=\u001b[0m\u001b[0mdebug\u001b[0m\u001b[1;33m,\u001b[0m \u001b[1;33m**\u001b[0m\u001b[0mflask_run_options\u001b[0m\u001b[1;33m)\u001b[0m\u001b[1;33m\u001b[0m\u001b[1;33m\u001b[0m\u001b[0m\n\u001b[0m",
      "\u001b[1;32m~\\anaconda3a\\lib\\site-packages\\flask\\app.py\u001b[0m in \u001b[0;36mrun\u001b[1;34m(self, host, port, debug, load_dotenv, **options)\u001b[0m\n\u001b[0;32m    988\u001b[0m \u001b[1;33m\u001b[0m\u001b[0m\n\u001b[0;32m    989\u001b[0m         \u001b[1;32mtry\u001b[0m\u001b[1;33m:\u001b[0m\u001b[1;33m\u001b[0m\u001b[1;33m\u001b[0m\u001b[0m\n\u001b[1;32m--> 990\u001b[1;33m             \u001b[0mrun_simple\u001b[0m\u001b[1;33m(\u001b[0m\u001b[0mhost\u001b[0m\u001b[1;33m,\u001b[0m \u001b[0mport\u001b[0m\u001b[1;33m,\u001b[0m \u001b[0mself\u001b[0m\u001b[1;33m,\u001b[0m \u001b[1;33m**\u001b[0m\u001b[0moptions\u001b[0m\u001b[1;33m)\u001b[0m\u001b[1;33m\u001b[0m\u001b[1;33m\u001b[0m\u001b[0m\n\u001b[0m\u001b[0;32m    991\u001b[0m         \u001b[1;32mfinally\u001b[0m\u001b[1;33m:\u001b[0m\u001b[1;33m\u001b[0m\u001b[1;33m\u001b[0m\u001b[0m\n\u001b[0;32m    992\u001b[0m             \u001b[1;31m# reset the first request information if the development server\u001b[0m\u001b[1;33m\u001b[0m\u001b[1;33m\u001b[0m\u001b[1;33m\u001b[0m\u001b[0m\n",
      "\u001b[1;31mTypeError\u001b[0m: run_simple() got an unexpected keyword argument 'mode'"
     ]
    }
   ],
   "source": [
    "# Run the app\n",
    "if __name__ == '__main__':\n",
    "    app.run_server(mode='inline')"
   ]
  },
  {
   "cell_type": "code",
   "execution_count": null,
   "metadata": {},
   "outputs": [
    {
     "name": "stdout",
     "output_type": "stream",
     "text": [
      "Dash is running on http://127.0.0.1:8050/\n",
      "\n",
      " * Serving Flask app \"__main__\" (lazy loading)\n",
      " * Environment: production\n",
      "   WARNING: This is a development server. Do not use it in a production deployment.\n",
      "   Use a production WSGI server instead.\n",
      " * Debug mode: off\n"
     ]
    },
    {
     "name": "stderr",
     "output_type": "stream",
     "text": [
      " * Running on http://127.0.0.1:8050/ (Press CTRL+C to quit)\n",
      "127.0.0.1 - - [02/Feb/2022 19:30:15] \"\u001b[37mGET / HTTP/1.1\u001b[0m\" 200 -\n",
      "127.0.0.1 - - [02/Feb/2022 19:30:15] \"\u001b[37mGET /_dash-component-suites/dash_renderer/polyfill@7.v1_9_1m1632330794.8.7.min.js HTTP/1.1\u001b[0m\" 200 -\n",
      "127.0.0.1 - - [02/Feb/2022 19:30:16] \"\u001b[37mGET /_dash-component-suites/dash_html_components/dash_html_components.v1_1_3m1632330797.min.js HTTP/1.1\u001b[0m\" 200 -\n",
      "127.0.0.1 - - [02/Feb/2022 19:30:16] \"\u001b[37mGET /_dash-component-suites/dash_core_components/dash_core_components-shared.v1_16_0m1632330795.js HTTP/1.1\u001b[0m\" 200 -\n",
      "127.0.0.1 - - [02/Feb/2022 19:30:16] \"\u001b[37mGET /_dash-component-suites/dash_renderer/prop-types@15.v1_9_1m1632330794.7.2.min.js HTTP/1.1\u001b[0m\" 200 -\n",
      "127.0.0.1 - - [02/Feb/2022 19:30:16] \"\u001b[37mGET /_dash-component-suites/dash_renderer/react@16.v1_9_1m1632330794.14.0.min.js HTTP/1.1\u001b[0m\" 200 -\n",
      "127.0.0.1 - - [02/Feb/2022 19:30:16] \"\u001b[37mGET /_dash-component-suites/dash_core_components/dash_core_components.v1_16_0m1632330795.min.js HTTP/1.1\u001b[0m\" 200 -\n",
      "127.0.0.1 - - [02/Feb/2022 19:30:16] \"\u001b[37mGET /_dash-component-suites/dash_renderer/dash_renderer.v1_9_1m1632330794.min.js HTTP/1.1\u001b[0m\" 200 -\n",
      "127.0.0.1 - - [02/Feb/2022 19:30:16] \"\u001b[37mGET /_dash-component-suites/dash_renderer/react-dom@16.v1_9_1m1632330794.14.0.min.js HTTP/1.1\u001b[0m\" 200 -\n",
      "127.0.0.1 - - [02/Feb/2022 19:30:17] \"\u001b[37mGET /_dash-layout HTTP/1.1\u001b[0m\" 200 -\n",
      "127.0.0.1 - - [02/Feb/2022 19:30:17] \"\u001b[37mGET /_dash-dependencies HTTP/1.1\u001b[0m\" 200 -\n",
      "127.0.0.1 - - [02/Feb/2022 19:30:17] \"\u001b[37mGET /_favicon.ico?v=1.20.0 HTTP/1.1\u001b[0m\" 200 -\n",
      "127.0.0.1 - - [02/Feb/2022 19:30:17] \"\u001b[37mGET /_dash-component-suites/dash_core_components/async-dropdown.v1_16_0m1617903285.js HTTP/1.1\u001b[0m\" 200 -\n",
      "127.0.0.1 - - [02/Feb/2022 19:30:17] \"\u001b[37mGET /_dash-component-suites/dash_core_components/async-graph.v1_16_0m1617903285.js HTTP/1.1\u001b[0m\" 200 -\n",
      "127.0.0.1 - - [02/Feb/2022 19:30:18] \"\u001b[37mGET /_dash-component-suites/dash_core_components/async-slider.v1_16_0m1617903285.js HTTP/1.1\u001b[0m\" 200 -\n",
      "127.0.0.1 - - [02/Feb/2022 19:30:18] \"\u001b[37mGET /_dash-component-suites/dash_core_components/async-plotlyjs.v1_16_0m1617903285.js HTTP/1.1\u001b[0m\" 200 -\n"
     ]
    },
    {
     "name": "stdout",
     "output_type": "stream",
     "text": [
      "Exception on /_dash-update-component [POST]\n",
      "Traceback (most recent call last):\n",
      "  File \"C:\\Users\\user\\anaconda3a\\lib\\site-packages\\flask\\app.py\", line 2446, in wsgi_app\n",
      "    response = self.full_dispatch_request()\n",
      "  File \"C:\\Users\\user\\anaconda3a\\lib\\site-packages\\flask\\app.py\", line 1951, in full_dispatch_request\n",
      "    rv = self.handle_user_exception(e)\n",
      "  File \"C:\\Users\\user\\anaconda3a\\lib\\site-packages\\flask\\app.py\", line 1820, in handle_user_exception\n",
      "    reraise(exc_type, exc_value, tb)\n",
      "  File \"C:\\Users\\user\\anaconda3a\\lib\\site-packages\\flask\\_compat.py\", line 39, in reraise\n",
      "    raise value\n",
      "  File \"C:\\Users\\user\\anaconda3a\\lib\\site-packages\\flask\\app.py\", line 1949, in full_dispatch_request\n",
      "    rv = self.dispatch_request()\n",
      "  File \"C:\\Users\\user\\anaconda3a\\lib\\site-packages\\flask\\app.py\", line 1935, in dispatch_request\n",
      "    return self.view_functions[rule.endpoint](**req.view_args)\n",
      "  File \"C:\\Users\\user\\anaconda3a\\lib\\site-packages\\dash\\dash.py\", line 1079, in dispatch\n",
      "    response.set_data(func(*args, outputs_list=outputs_list))\n",
      "  File \"C:\\Users\\user\\anaconda3a\\lib\\site-packages\\dash\\dash.py\", line 1010, in add_context\n",
      "    output_value = func(*args, **kwargs)  # %% callback invoked %%\n",
      "  File \"<ipython-input-1-5c5eb2b81350>\", line 56, in update_pie\n",
      "    title=f'Total Success Launches by Site')\n",
      "  File \"C:\\Users\\user\\anaconda3a\\lib\\site-packages\\plotly\\express\\_chart_types.py\", line 1368, in pie\n",
      "    layout_patch=layout_patch,\n",
      "  File \"C:\\Users\\user\\anaconda3a\\lib\\site-packages\\plotly\\express\\_core.py\", line 1879, in make_figure\n",
      "    args = build_dataframe(args, constructor)\n",
      "  File \"C:\\Users\\user\\anaconda3a\\lib\\site-packages\\plotly\\express\\_core.py\", line 1400, in build_dataframe\n",
      "    args, wide_mode, var_name, value_name\n",
      "  File \"C:\\Users\\user\\anaconda3a\\lib\\site-packages\\plotly\\express\\_core.py\", line 1205, in process_args_into_dataframe\n",
      "    raise ValueError(err_msg)\n",
      "ValueError: Value of 'values' is not the name of a column in 'data_frame'. Expected one of ['Unnamed: 0', 'Flight Number', 'Launch Site', 'Mission Outcome', 'class', 'Payload Mass (kg)', 'Booster Version', 'Booster Version Category'] but received: name size\n"
     ]
    },
    {
     "name": "stderr",
     "output_type": "stream",
     "text": [
      "127.0.0.1 - - [02/Feb/2022 19:30:20] \"\u001b[35m\u001b[1mPOST /_dash-update-component HTTP/1.1\u001b[0m\" 500 -\n",
      "127.0.0.1 - - [02/Feb/2022 19:30:45] \"\u001b[37mPOST /_dash-update-component HTTP/1.1\u001b[0m\" 200 -\n",
      "127.0.0.1 - - [02/Feb/2022 19:30:45] \"\u001b[37mPOST /_dash-update-component HTTP/1.1\u001b[0m\" 200 -\n"
     ]
    }
   ],
   "source": [
    "# Import required libraries\n",
    "import pandas as pd\n",
    "import dash\n",
    "import dash_html_components as html\n",
    "import dash_core_components as dcc\n",
    "from dash.dependencies import Input, Output\n",
    "import plotly.express as px\n",
    "\n",
    "# Read the airline data into pandas dataframe\n",
    "spacex_df = pd.read_csv(r'C:\\Users\\user\\Downloads\\spacex_launch_dash.csv')\n",
    "max_payload = spacex_df['Payload Mass (kg)'].max()\n",
    "min_payload = spacex_df['Payload Mass (kg)'].min()\n",
    "\n",
    "# Create a dash application\n",
    "app = dash.Dash(__name__)\n",
    "\n",
    "# Create an app layout\n",
    "app.layout = html.Div(children=[html.H1('SpaceX Launch Records Dashboard',\n",
    "                                        style={'textAlign': 'center', 'color': '#503D36',  'font-size': 40}),\n",
    "                                # TASK 1: Add a dropdown list to enable Launch Site selection\n",
    "                                # The default select value is for ALL sites\n",
    "                                dcc.Dropdown (id='site-dropdown', options=[\n",
    "                                                {'label': 'All Sites', 'value': 'ALL'},\n",
    "                                                {'label': 'CCAFS LC-40', 'value': 'CCAFS LC-40'}, \n",
    "                                                {'label': 'VAFB SLC-4E', 'value': 'VAFB SLC-4E'}, \n",
    "                                                {'label': 'KSC LC-39A', 'value': 'KSC LC-39A'}, \n",
    "                                                {'label': 'CCAF SLC-40', 'value': 'CCAFS SLC-40'}],\n",
    "                                            value='ALL',\n",
    "                                            placeholder=\"Select a Launch Site here\",\n",
    "                                            searchable=True),\n",
    "                                html.Br(),\n",
    "\n",
    "                                # TASK 2: Add a pie chart to show the total successful launches count for all sites\n",
    "                                # If a specific launch site was selected, show the Success vs. Failed counts for the site\n",
    "                                html.Div(dcc.Graph(id='success-pie-chart')),\n",
    "                                html.Br(),\n",
    "\n",
    "                                html.P(\"Payload range (Kg):\"),\n",
    "                                # TASK 3: Add a slider to select payload range\n",
    "                                dcc.RangeSlider(id='payload-slider', min=0, max=10000, step=1000,\n",
    "                                        marks={0: '0', 100: '100'}, value=[min_payload, max_payload]),\n",
    "\n",
    "                                # TASK 4: Add a scatter chart to show the correlation between payload and launch success\n",
    "                                html.Div(dcc.Graph(id='success-payload-scatter-chart')),\n",
    "                                ])\n",
    "\n",
    "# TASK 2:\n",
    "# Add a callback function for `site-dropdown` as input, `success-pie-chart` as output\n",
    "@app.callback(Output(component_id='success-pie-chart', component_property='figure'),\n",
    "              Input(component_id='site-dropdown', component_property='value'))\n",
    "\n",
    "def update_pie (entered_site):\n",
    "    filtered_df = spacex_df\n",
    "    if entered_site == 'ALL':\n",
    "        pie_fig = px.pie(filtered_df, values='name size', names='Launch Site', \n",
    "                        title=f'Total Success Launches by Site')\n",
    "        return pie_fig\n",
    "    else:\n",
    "        filtered_dfs = filtered_df[filtered_df['Launch Site'] == entered_site].groupby('class').size().reset_index(name='class count')\n",
    "        pie_fig = px.pie(filtered_dfs, values='class size', names='class', \n",
    "                       title=f'Total Success Launches for Site {entered_site}')\n",
    "        return pie_fig\n",
    "\n",
    "# TASK 4:\n",
    "# Add a callback function for `site-dropdown` and `payload-slider` as inputs, `success-payload-scatter-chart` as output\n",
    "@app.callback(Output(component_id='success-payload-scatter-chart', component_property='figure'),\n",
    "                [Input(component_id='site-dropdown', component_property='value'), \n",
    "                Input(component_id='payload-slider', component_property='value')])\n",
    "\n",
    "def update_scatter (entered_site, slider_position):\n",
    "    low, high = slider_position\n",
    "    scat_df = spacex_df[spacex_df['Payload Mass (kg)'].between(low, high)]\n",
    "    if entered_site == 'ALL':\n",
    "        scat_fig = px.scatter(scat_df, x=\"Payload Mass (kg)\", y=\"class\", color=\"Booster Version Category\",\n",
    "                         title=f'Correlation between Payload and Success for All Sites') \n",
    "        return scat_fig\n",
    "    else:\n",
    "        scat_dfs = scat_df[scat_df['Launch Site'] == entered_site]\n",
    "        scat_fig = px.scatter(scat_dfs, x=\"Payload Mass (kg)\", y=\"class\", color=\"Booster Version Category\",\n",
    "                         title=f'Correlation between Payload and Success for Site {entered_site}') \n",
    "        return scat_fig\n",
    "\n",
    "# Run the app\n",
    "if __name__ == '__main__':\n",
    "    app.run_server(debug=False) "
   ]
  },
  {
   "cell_type": "code",
   "execution_count": null,
   "metadata": {},
   "outputs": [],
   "source": []
  }
 ],
 "metadata": {
  "kernelspec": {
   "display_name": "Python 3",
   "language": "python",
   "name": "python3"
  },
  "language_info": {
   "codemirror_mode": {
    "name": "ipython",
    "version": 3
   },
   "file_extension": ".py",
   "mimetype": "text/x-python",
   "name": "python",
   "nbconvert_exporter": "python",
   "pygments_lexer": "ipython3",
   "version": "3.7.6"
  }
 },
 "nbformat": 4,
 "nbformat_minor": 4
}
